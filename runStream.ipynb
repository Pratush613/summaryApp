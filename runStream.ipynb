{
  "cells": [
    {
      "cell_type": "markdown",
      "metadata": {
        "id": "view-in-github",
        "colab_type": "text"
      },
      "source": [
        "<a href=\"https://colab.research.google.com/github/Pratush613/summaryApp/blob/main/runStream.ipynb\" target=\"_parent\"><img src=\"https://colab.research.google.com/assets/colab-badge.svg\" alt=\"Open In Colab\"/></a>"
      ]
    },
    {
      "cell_type": "code",
      "execution_count": 26,
      "metadata": {
        "colab": {
          "base_uri": "https://localhost:8080/"
        },
        "collapsed": true,
        "id": "cXQZghZj05AR",
        "outputId": "d7939d86-074c-4ca2-8826-e5388f528aa4"
      },
      "outputs": [
        {
          "output_type": "stream",
          "name": "stdout",
          "text": [
            "Requirement already satisfied: transformers in /usr/local/lib/python3.10/dist-packages (4.41.2)\n",
            "Requirement already satisfied: filelock in /usr/local/lib/python3.10/dist-packages (from transformers) (3.15.3)\n",
            "Requirement already satisfied: huggingface-hub<1.0,>=0.23.0 in /usr/local/lib/python3.10/dist-packages (from transformers) (0.23.4)\n",
            "Requirement already satisfied: numpy>=1.17 in /usr/local/lib/python3.10/dist-packages (from transformers) (1.25.2)\n",
            "Requirement already satisfied: packaging>=20.0 in /usr/local/lib/python3.10/dist-packages (from transformers) (24.1)\n",
            "Requirement already satisfied: pyyaml>=5.1 in /usr/local/lib/python3.10/dist-packages (from transformers) (6.0.1)\n",
            "Requirement already satisfied: regex!=2019.12.17 in /usr/local/lib/python3.10/dist-packages (from transformers) (2024.5.15)\n",
            "Requirement already satisfied: requests in /usr/local/lib/python3.10/dist-packages (from transformers) (2.31.0)\n",
            "Requirement already satisfied: tokenizers<0.20,>=0.19 in /usr/local/lib/python3.10/dist-packages (from transformers) (0.19.1)\n",
            "Requirement already satisfied: safetensors>=0.4.1 in /usr/local/lib/python3.10/dist-packages (from transformers) (0.4.3)\n",
            "Requirement already satisfied: tqdm>=4.27 in /usr/local/lib/python3.10/dist-packages (from transformers) (4.66.4)\n",
            "Requirement already satisfied: fsspec>=2023.5.0 in /usr/local/lib/python3.10/dist-packages (from huggingface-hub<1.0,>=0.23.0->transformers) (2023.6.0)\n",
            "Requirement already satisfied: typing-extensions>=3.7.4.3 in /usr/local/lib/python3.10/dist-packages (from huggingface-hub<1.0,>=0.23.0->transformers) (4.12.2)\n",
            "Requirement already satisfied: charset-normalizer<4,>=2 in /usr/local/lib/python3.10/dist-packages (from requests->transformers) (3.3.2)\n",
            "Requirement already satisfied: idna<4,>=2.5 in /usr/local/lib/python3.10/dist-packages (from requests->transformers) (3.7)\n",
            "Requirement already satisfied: urllib3<3,>=1.21.1 in /usr/local/lib/python3.10/dist-packages (from requests->transformers) (2.0.7)\n",
            "Requirement already satisfied: certifi>=2017.4.17 in /usr/local/lib/python3.10/dist-packages (from requests->transformers) (2024.6.2)\n",
            "Requirement already satisfied: newspaper3k in /usr/local/lib/python3.10/dist-packages (0.2.8)\n",
            "Requirement already satisfied: beautifulsoup4>=4.4.1 in /usr/local/lib/python3.10/dist-packages (from newspaper3k) (4.12.3)\n",
            "Requirement already satisfied: Pillow>=3.3.0 in /usr/local/lib/python3.10/dist-packages (from newspaper3k) (9.4.0)\n",
            "Requirement already satisfied: PyYAML>=3.11 in /usr/local/lib/python3.10/dist-packages (from newspaper3k) (6.0.1)\n",
            "Requirement already satisfied: cssselect>=0.9.2 in /usr/local/lib/python3.10/dist-packages (from newspaper3k) (1.2.0)\n",
            "Requirement already satisfied: lxml>=3.6.0 in /usr/local/lib/python3.10/dist-packages (from newspaper3k) (4.9.4)\n",
            "Requirement already satisfied: nltk>=3.2.1 in /usr/local/lib/python3.10/dist-packages (from newspaper3k) (3.8.1)\n",
            "Requirement already satisfied: requests>=2.10.0 in /usr/local/lib/python3.10/dist-packages (from newspaper3k) (2.31.0)\n",
            "Requirement already satisfied: feedparser>=5.2.1 in /usr/local/lib/python3.10/dist-packages (from newspaper3k) (6.0.11)\n",
            "Requirement already satisfied: tldextract>=2.0.1 in /usr/local/lib/python3.10/dist-packages (from newspaper3k) (5.1.2)\n",
            "Requirement already satisfied: feedfinder2>=0.0.4 in /usr/local/lib/python3.10/dist-packages (from newspaper3k) (0.0.4)\n",
            "Requirement already satisfied: jieba3k>=0.35.1 in /usr/local/lib/python3.10/dist-packages (from newspaper3k) (0.35.1)\n",
            "Requirement already satisfied: python-dateutil>=2.5.3 in /usr/local/lib/python3.10/dist-packages (from newspaper3k) (2.8.2)\n",
            "Requirement already satisfied: tinysegmenter==0.3 in /usr/local/lib/python3.10/dist-packages (from newspaper3k) (0.3)\n",
            "Requirement already satisfied: soupsieve>1.2 in /usr/local/lib/python3.10/dist-packages (from beautifulsoup4>=4.4.1->newspaper3k) (2.5)\n",
            "Requirement already satisfied: six in /usr/local/lib/python3.10/dist-packages (from feedfinder2>=0.0.4->newspaper3k) (1.16.0)\n",
            "Requirement already satisfied: sgmllib3k in /usr/local/lib/python3.10/dist-packages (from feedparser>=5.2.1->newspaper3k) (1.0.0)\n",
            "Requirement already satisfied: click in /usr/local/lib/python3.10/dist-packages (from nltk>=3.2.1->newspaper3k) (8.1.7)\n",
            "Requirement already satisfied: joblib in /usr/local/lib/python3.10/dist-packages (from nltk>=3.2.1->newspaper3k) (1.4.2)\n",
            "Requirement already satisfied: regex>=2021.8.3 in /usr/local/lib/python3.10/dist-packages (from nltk>=3.2.1->newspaper3k) (2024.5.15)\n",
            "Requirement already satisfied: tqdm in /usr/local/lib/python3.10/dist-packages (from nltk>=3.2.1->newspaper3k) (4.66.4)\n",
            "Requirement already satisfied: charset-normalizer<4,>=2 in /usr/local/lib/python3.10/dist-packages (from requests>=2.10.0->newspaper3k) (3.3.2)\n",
            "Requirement already satisfied: idna<4,>=2.5 in /usr/local/lib/python3.10/dist-packages (from requests>=2.10.0->newspaper3k) (3.7)\n",
            "Requirement already satisfied: urllib3<3,>=1.21.1 in /usr/local/lib/python3.10/dist-packages (from requests>=2.10.0->newspaper3k) (2.0.7)\n",
            "Requirement already satisfied: certifi>=2017.4.17 in /usr/local/lib/python3.10/dist-packages (from requests>=2.10.0->newspaper3k) (2024.6.2)\n",
            "Requirement already satisfied: requests-file>=1.4 in /usr/local/lib/python3.10/dist-packages (from tldextract>=2.0.1->newspaper3k) (2.1.0)\n",
            "Requirement already satisfied: filelock>=3.0.8 in /usr/local/lib/python3.10/dist-packages (from tldextract>=2.0.1->newspaper3k) (3.15.3)\n",
            "Requirement already satisfied: fpdf in /usr/local/lib/python3.10/dist-packages (1.7.2)\n"
          ]
        }
      ],
      "source": [
        "!pip install streamlit -q\n",
        "!pip install transformers\n",
        "!pip install newspaper3k\n",
        "!pip install fpdf"
      ]
    },
    {
      "cell_type": "code",
      "execution_count": 28,
      "metadata": {
        "colab": {
          "base_uri": "https://localhost:8080/"
        },
        "id": "aS-5ilE12T5l",
        "outputId": "58fc7edc-07a3-4733-9501-06ee2207cb3f"
      },
      "outputs": [
        {
          "output_type": "stream",
          "name": "stdout",
          "text": [
            "104.198.105.121\n"
          ]
        }
      ],
      "source": [
        "! wget -q -O - ipv4.icanhazip.com"
      ]
    },
    {
      "cell_type": "code",
      "execution_count": 31,
      "metadata": {
        "colab": {
          "base_uri": "https://localhost:8080/"
        },
        "id": "qRxatJ7_ba4J",
        "outputId": "645acd22-064c-4511-e7b8-f735456f4066"
      },
      "outputs": [
        {
          "output_type": "stream",
          "name": "stdout",
          "text": [
            "Overwriting app.py\n"
          ]
        }
      ],
      "source": [
        "%%writefile app.py\n",
        "import streamlit as st\n",
        "from transformers import pipeline\n",
        "from newspaper import Article\n",
        "from fpdf import FPDF, HTMLMixin\n",
        "import base64\n",
        "\n",
        "class MyFPDF(FPDF, HTMLMixin):\n",
        "    pass\n",
        "\n",
        "def convert_to_pdf(text):\n",
        "    pdf = MyFPDF()\n",
        "    pdf.add_page()\n",
        "    pdf.set_font(\"Arial\", size=12)\n",
        "\n",
        "    # Split text into lines to add to PDF\n",
        "    lines = text.split('\\n')\n",
        "    for line in lines:\n",
        "        pdf.multi_cell(0, 10, line.encode('latin-1', 'replace').decode('latin-1'))\n",
        "\n",
        "    pdf_output = \"output.pdf\"\n",
        "    pdf.output(pdf_output)\n",
        "    return pdf_output\n",
        "\n",
        "def convert_to_text(text):\n",
        "    text_file = \"output.txt\"\n",
        "    with open(text_file, \"w\", encoding='utf-8') as file:\n",
        "        file.write(text)\n",
        "    return text_file\n",
        "\n",
        "def get_binary_file_downloader_html(bin_file, file_label):\n",
        "    with open(bin_file, 'rb') as f:\n",
        "        data = f.read()\n",
        "    bin_str = base64.b64encode(data).decode()\n",
        "    href = f'<a href=\"data:application/octet-stream;base64,{bin_str}\" download=\"{bin_file}\">Download {file_label}</a>'\n",
        "    return href\n",
        "\n",
        "st.markdown(\n",
        "    \"\"\"\n",
        "    <style>\n",
        "    .reportview-container {\n",
        "        background-color: #032c40;\n",
        "    }\n",
        "    footer {\n",
        "        visibility: hidden;\n",
        "    }\n",
        "    .custom-footer {\n",
        "        position: fixed;\n",
        "        left: 0;\n",
        "        bottom: 0;\n",
        "        width: 100%;\n",
        "        background-color: #808080;\n",
        "        text-align: center;\n",
        "        padding: 10px;\n",
        "        font-size: 16px;\n",
        "        color:  #FFFFFF;\n",
        "    }\n",
        "    </style>\n",
        "    \"\"\",\n",
        "    unsafe_allow_html=True,\n",
        ")\n",
        "\n",
        "st.sidebar.title(\"Article Summarizer and Translator\")\n",
        "\n",
        "task = st.sidebar.radio(\"Choose The Task  \", [\"Summarization\", \"Translation\"])\n",
        "\n",
        "if task == \"Summarization\":\n",
        "    st.title(\"Article Summarizer\")\n",
        "\n",
        "    # Load the summarization pipeline\n",
        "    summarization_pipeline = pipeline(\"summarization\", model=\"t5-small\")\n",
        "\n",
        "    input_type = st.radio(\"Summarize from:\", [\"Text Input\", \"URL\"])\n",
        "    max_length = st.slider(\"Maximum Summary Length:\", min_value=50, max_value=500, value=300)\n",
        "    min_length = st.slider(\"Minimum Summary Length:\", min_value=30, max_value=300, value=100)\n",
        "\n",
        "    if input_type == \"Text Input\":\n",
        "        input_text = st.text_area(\"Enter text to summarize:\", height=150)\n",
        "        if st.button(\"Summarize\"):\n",
        "            if input_text:\n",
        "                try:\n",
        "                    with st.spinner('Summarizing...'):\n",
        "                        summary = summarization_pipeline(input_text, max_length=max_length, min_length=min_length)[0][\"summary_text\"]\n",
        "                    st.write(\"Summary:\")\n",
        "                    st.write(summary)\n",
        "\n",
        "                    pdf_file = convert_to_pdf(summary)\n",
        "                    text_file = convert_to_text(summary)\n",
        "                    st.markdown(get_binary_file_downloader_html(pdf_file, \"Summary as PDF\"), unsafe_allow_html=True)\n",
        "                    st.markdown(get_binary_file_downloader_html(text_file, \"Summary as Text\"), unsafe_allow_html=True)\n",
        "                except Exception as e:\n",
        "                    st.error(\"Error summarizing the text. Please try again.\")\n",
        "                    st.error(str(e))\n",
        "\n",
        "    elif input_type == \"URL\":\n",
        "        url = st.text_input(\"Enter URL to summarize:\")\n",
        "        if st.button(\"Fetch and Summarize\"):\n",
        "            if url and url.startswith((\"http://\", \"https://\")):\n",
        "                try:\n",
        "                    article = Article(url)\n",
        "                    article.download()\n",
        "                    article.parse()\n",
        "                    input_text = article.text\n",
        "                    with st.spinner('Summarizing...'):\n",
        "                        summary = summarization_pipeline(input_text, max_length=max_length, min_length=min_length)[0][\"summary_text\"]\n",
        "                    st.write(\"Summary:\")\n",
        "                    st.write(summary)\n",
        "\n",
        "                    pdf_file = convert_to_pdf(summary)\n",
        "                    text_file = convert_to_text(summary)\n",
        "                    st.markdown(get_binary_file_downloader_html(pdf_file, \"Summary as PDF\"), unsafe_allow_html=True)\n",
        "                    st.markdown(get_binary_file_downloader_html(text_file, \"Summary as Text\"), unsafe_allow_html=True)\n",
        "                except Exception as e:\n",
        "                    st.error(\"Error fetching or summarizing the article. It might be protected against scraping or is not valid. Please try another URL.\")\n",
        "                    st.error(str(e))\n",
        "            else:\n",
        "                st.warning(\"Please enter a valid URL (starting with http:// or https://).\")\n",
        "\n",
        "elif task == \"Translation\":\n",
        "    st.title(\"Text Translator\")\n",
        "\n",
        "    source_lang = st.selectbox('Select the source language', ['en', 'fr', 'hi'])\n",
        "    target_lang = st.selectbox('Select the target language', ['en', 'fr', 'hi'])\n",
        "\n",
        "    model_map = {\n",
        "        ('en', 'fr'): \"Helsinki-NLP/opus-mt-en-fr\",\n",
        "        ('en', 'hi'): \"Helsinki-NLP/opus-mt-en-hi\",\n",
        "        ('fr', 'en'): \"Helsinki-NLP/opus-mt-fr-en\",\n",
        "        ('hi', 'en'): \"Helsinki-NLP/opus-mt-hi-en\",\n",
        "        ('hi', 'fr'): \"Helsinki-NLP/opus-mt-hi-fr\",\n",
        "        ('fr', 'hi'): \"Helsinki-NLP/opus-mt-fr-hi\"\n",
        "    }\n",
        "\n",
        "    model_name = model_map.get((source_lang, target_lang), \"Helsinki-NLP/opus-mt-en-hi\")\n",
        "\n",
        "    st.write(\"Source Language:\", source_lang)\n",
        "    st.write(\"Target Language:\", target_lang)\n",
        "\n",
        "    try:\n",
        "        translation_pipeline = pipeline(\"translation\", model=model_name)\n",
        "    except Exception as e:\n",
        "        st.error(f\"Error loading translation model: {str(e)}\")\n",
        "        st.stop()\n",
        "\n",
        "    input_text = st.text_area(\"Enter text to translate:\", height=150)\n",
        "    if st.button(\"Translate\"):\n",
        "        if input_text:\n",
        "            try:\n",
        "                with st.spinner('Translating...'):\n",
        "                    translation = translation_pipeline(input_text)[0][\"translation_text\"]\n",
        "                st.write(\"Translation:\")\n",
        "                st.write(translation)\n",
        "\n",
        "                pdf_file = convert_to_pdf(translation)\n",
        "                text_file = convert_to_text(translation)\n",
        "                st.markdown(get_binary_file_downloader_html(pdf_file, \"Translation as PDF\"), unsafe_allow_html=True)\n",
        "                st.markdown(get_binary_file_downloader_html(text_file, \"Translation as Text\"), unsafe_allow_html=True)\n",
        "            except Exception as e:\n",
        "                st.error(\"Error translating the text. Please try again.\")\n",
        "                st.error(str(e))\n",
        "\n",
        "# Footer content with name\n",
        "st.markdown(\n",
        "    \"\"\"\n",
        "    <div class=\"custom-footer\">\n",
        "        @created by Pratush\n",
        "    </div>\n",
        "    \"\"\",\n",
        "    unsafe_allow_html=True,\n",
        ")\n"
      ]
    },
    {
      "cell_type": "code",
      "execution_count": 32,
      "metadata": {
        "colab": {
          "base_uri": "https://localhost:8080/"
        },
        "id": "xoYqw_pr2nnT",
        "outputId": "165c7faf-efb5-4345-8b25-caf2cbb81cd1"
      },
      "outputs": [
        {
          "output_type": "stream",
          "name": "stdout",
          "text": [
            "\n",
            "Collecting usage statistics. To deactivate, set browser.gatherUsageStats to false.\n",
            "\u001b[0m\n",
            "\u001b[0m\n",
            "\u001b[34m\u001b[1m  You can now view your Streamlit app in your browser.\u001b[0m\n",
            "\u001b[0m\n",
            "\u001b[34m  Local URL: \u001b[0m\u001b[1mhttp://localhost:8501\u001b[0m\n",
            "\u001b[34m  Network URL: \u001b[0m\u001b[1mhttp://172.28.0.12:8501\u001b[0m\n",
            "\u001b[34m  External URL: \u001b[0m\u001b[1mhttp://104.198.105.121:8501\u001b[0m\n",
            "\u001b[0m\n",
            "\u001b[K\u001b[?25hnpx: installed 22 in 3.1s\n",
            "your url is: https://slimy-mangos-speak.loca.lt\n",
            "2024-06-25 09:41:33.859176: E external/local_xla/xla/stream_executor/cuda/cuda_dnn.cc:9261] Unable to register cuDNN factory: Attempting to register factory for plugin cuDNN when one has already been registered\n",
            "2024-06-25 09:41:33.859298: E external/local_xla/xla/stream_executor/cuda/cuda_fft.cc:607] Unable to register cuFFT factory: Attempting to register factory for plugin cuFFT when one has already been registered\n",
            "2024-06-25 09:41:33.861849: E external/local_xla/xla/stream_executor/cuda/cuda_blas.cc:1515] Unable to register cuBLAS factory: Attempting to register factory for plugin cuBLAS when one has already been registered\n",
            "2024-06-25 09:41:35.736782: W tensorflow/compiler/tf2tensorrt/utils/py_utils.cc:38] TF-TRT Warning: Could not find TensorRT\n",
            "\u001b[34m  Stopping...\u001b[0m\n",
            "^C\n"
          ]
        }
      ],
      "source": [
        "! streamlit run app.py & npx localtunnel --port 8501"
      ]
    }
  ],
  "metadata": {
    "colab": {
      "provenance": [],
      "authorship_tag": "ABX9TyPXtc1xitA/U0qY89LzAwDb",
      "include_colab_link": true
    },
    "kernelspec": {
      "display_name": "Python 3",
      "name": "python3"
    },
    "language_info": {
      "name": "python"
    }
  },
  "nbformat": 4,
  "nbformat_minor": 0
}